{
 "cells": [
  {
   "cell_type": "markdown",
   "id": "9747d1ca",
   "metadata": {},
   "source": [
    "KC 순서대로 배열하기  \n",
    "binary로 만들기"
   ]
  },
  {
   "cell_type": "code",
   "execution_count": 1,
   "id": "5ba618ac",
   "metadata": {},
   "outputs": [],
   "source": [
    "import pandas as pd\n",
    "import numpy as np"
   ]
  },
  {
   "cell_type": "code",
   "execution_count": 11,
   "id": "f2f78bd5",
   "metadata": {
    "scrolled": true
   },
   "outputs": [],
   "source": [
    "df = pd.read_csv('./algebra_ratio3000.csv')"
   ]
  },
  {
   "cell_type": "code",
   "execution_count": 12,
   "id": "0398c29f",
   "metadata": {},
   "outputs": [],
   "source": [
    "coll = [\"Unnamed: 0\",\"Enter.denominator.of.given.rate.in.proportion\", \"Enter.numerator.of.given.rate.in.proportion\", \"Enter.Calculated.value.of.rate\", \"Enter.total.in.proportion.with.variable\", \"Enter.given.part.in.proportion\", \"Enter.proportion.label.in.denominator\", \"Enter.proportion.label.in.numerator\", \"Calculate.total.in.proportion.with.fractions\", \"Choose.operator.in.fractional.identity\", \"Enter.denominator.of.given.unit.rate.in.proportion\", \"Enter.given.total.in.proportion\", \"Enter.numerator.of.form.of.1\", \"Enter.denominator.of.form.of.1\", \"Enter.part.in.proportion.with.variable\", \"Enter.numerator.of.given.unit.rate.in.proportion\", \"Enter.numerator.of.given.fraction.in.proportion\", \"Enter.Calculated.value.of.ratio\", \"Enter.denominator.of.given.fraction.in.proportion\", \"Calculate.part.in.proportion.with.fractions\"]\n",
    "df = df[coll]"
   ]
  },
  {
   "cell_type": "code",
   "execution_count": 13,
   "id": "e03ff30f",
   "metadata": {},
   "outputs": [
    {
     "data": {
      "text/html": [
       "<div>\n",
       "<style scoped>\n",
       "    .dataframe tbody tr th:only-of-type {\n",
       "        vertical-align: middle;\n",
       "    }\n",
       "\n",
       "    .dataframe tbody tr th {\n",
       "        vertical-align: top;\n",
       "    }\n",
       "\n",
       "    .dataframe thead th {\n",
       "        text-align: right;\n",
       "    }\n",
       "</style>\n",
       "<table border=\"1\" class=\"dataframe\">\n",
       "  <thead>\n",
       "    <tr style=\"text-align: right;\">\n",
       "      <th></th>\n",
       "      <th>Unnamed: 0</th>\n",
       "      <th>Enter.denominator.of.given.rate.in.proportion</th>\n",
       "      <th>Enter.numerator.of.given.rate.in.proportion</th>\n",
       "      <th>Enter.Calculated.value.of.rate</th>\n",
       "      <th>Enter.total.in.proportion.with.variable</th>\n",
       "      <th>Enter.given.part.in.proportion</th>\n",
       "      <th>Enter.proportion.label.in.denominator</th>\n",
       "      <th>Enter.proportion.label.in.numerator</th>\n",
       "      <th>Calculate.total.in.proportion.with.fractions</th>\n",
       "      <th>Choose.operator.in.fractional.identity</th>\n",
       "      <th>Enter.denominator.of.given.unit.rate.in.proportion</th>\n",
       "      <th>Enter.given.total.in.proportion</th>\n",
       "      <th>Enter.numerator.of.form.of.1</th>\n",
       "      <th>Enter.denominator.of.form.of.1</th>\n",
       "      <th>Enter.part.in.proportion.with.variable</th>\n",
       "      <th>Enter.numerator.of.given.unit.rate.in.proportion</th>\n",
       "      <th>Enter.numerator.of.given.fraction.in.proportion</th>\n",
       "      <th>Enter.Calculated.value.of.ratio</th>\n",
       "      <th>Enter.denominator.of.given.fraction.in.proportion</th>\n",
       "      <th>Calculate.part.in.proportion.with.fractions</th>\n",
       "    </tr>\n",
       "  </thead>\n",
       "  <tbody>\n",
       "    <tr>\n",
       "      <th>0</th>\n",
       "      <td>stu_ba54353023</td>\n",
       "      <td>0.666667</td>\n",
       "      <td>1.00</td>\n",
       "      <td>0.857143</td>\n",
       "      <td>0.600000</td>\n",
       "      <td>0.600000</td>\n",
       "      <td>0.800000</td>\n",
       "      <td>0.466667</td>\n",
       "      <td>1.0</td>\n",
       "      <td>1</td>\n",
       "      <td>1.00</td>\n",
       "      <td>0.600000</td>\n",
       "      <td>0.933333</td>\n",
       "      <td>1.000000</td>\n",
       "      <td>0.800000</td>\n",
       "      <td>0.25</td>\n",
       "      <td>0.375000</td>\n",
       "      <td>1.000000</td>\n",
       "      <td>0.625000</td>\n",
       "      <td>0.800000</td>\n",
       "    </tr>\n",
       "    <tr>\n",
       "      <th>1</th>\n",
       "      <td>stu_9b100d1d39</td>\n",
       "      <td>0.750000</td>\n",
       "      <td>0.75</td>\n",
       "      <td>0.900000</td>\n",
       "      <td>0.500000</td>\n",
       "      <td>0.833333</td>\n",
       "      <td>1.000000</td>\n",
       "      <td>1.000000</td>\n",
       "      <td>1.0</td>\n",
       "      <td>1</td>\n",
       "      <td>0.75</td>\n",
       "      <td>0.777778</td>\n",
       "      <td>0.230769</td>\n",
       "      <td>0.500000</td>\n",
       "      <td>0.500000</td>\n",
       "      <td>0.25</td>\n",
       "      <td>0.500000</td>\n",
       "      <td>0.833333</td>\n",
       "      <td>0.833333</td>\n",
       "      <td>0.333333</td>\n",
       "    </tr>\n",
       "    <tr>\n",
       "      <th>2</th>\n",
       "      <td>stu_2d82395b87</td>\n",
       "      <td>1.000000</td>\n",
       "      <td>1.00</td>\n",
       "      <td>1.000000</td>\n",
       "      <td>1.000000</td>\n",
       "      <td>1.000000</td>\n",
       "      <td>0.916667</td>\n",
       "      <td>0.916667</td>\n",
       "      <td>0.8</td>\n",
       "      <td>1</td>\n",
       "      <td>1.00</td>\n",
       "      <td>0.833333</td>\n",
       "      <td>0.916667</td>\n",
       "      <td>0.875000</td>\n",
       "      <td>0.666667</td>\n",
       "      <td>1.00</td>\n",
       "      <td>0.666667</td>\n",
       "      <td>1.000000</td>\n",
       "      <td>1.000000</td>\n",
       "      <td>1.000000</td>\n",
       "    </tr>\n",
       "    <tr>\n",
       "      <th>3</th>\n",
       "      <td>stu_9e86e1a742</td>\n",
       "      <td>1.000000</td>\n",
       "      <td>1.00</td>\n",
       "      <td>1.000000</td>\n",
       "      <td>0.857143</td>\n",
       "      <td>0.857143</td>\n",
       "      <td>1.000000</td>\n",
       "      <td>0.846154</td>\n",
       "      <td>1.0</td>\n",
       "      <td>1</td>\n",
       "      <td>1.00</td>\n",
       "      <td>0.833333</td>\n",
       "      <td>0.833333</td>\n",
       "      <td>0.818182</td>\n",
       "      <td>0.800000</td>\n",
       "      <td>1.00</td>\n",
       "      <td>0.666667</td>\n",
       "      <td>1.000000</td>\n",
       "      <td>0.571429</td>\n",
       "      <td>0.833333</td>\n",
       "    </tr>\n",
       "    <tr>\n",
       "      <th>4</th>\n",
       "      <td>stu_c44bf8f2a3</td>\n",
       "      <td>0.750000</td>\n",
       "      <td>1.00</td>\n",
       "      <td>1.000000</td>\n",
       "      <td>1.000000</td>\n",
       "      <td>1.000000</td>\n",
       "      <td>0.818182</td>\n",
       "      <td>0.818182</td>\n",
       "      <td>1.0</td>\n",
       "      <td>1</td>\n",
       "      <td>1.00</td>\n",
       "      <td>1.000000</td>\n",
       "      <td>0.909091</td>\n",
       "      <td>1.000000</td>\n",
       "      <td>1.000000</td>\n",
       "      <td>1.00</td>\n",
       "      <td>1.000000</td>\n",
       "      <td>1.000000</td>\n",
       "      <td>0.750000</td>\n",
       "      <td>0.875000</td>\n",
       "    </tr>\n",
       "  </tbody>\n",
       "</table>\n",
       "</div>"
      ],
      "text/plain": [
       "       Unnamed: 0  Enter.denominator.of.given.rate.in.proportion  \\\n",
       "0  stu_ba54353023                                       0.666667   \n",
       "1  stu_9b100d1d39                                       0.750000   \n",
       "2  stu_2d82395b87                                       1.000000   \n",
       "3  stu_9e86e1a742                                       1.000000   \n",
       "4  stu_c44bf8f2a3                                       0.750000   \n",
       "\n",
       "   Enter.numerator.of.given.rate.in.proportion  \\\n",
       "0                                         1.00   \n",
       "1                                         0.75   \n",
       "2                                         1.00   \n",
       "3                                         1.00   \n",
       "4                                         1.00   \n",
       "\n",
       "   Enter.Calculated.value.of.rate  Enter.total.in.proportion.with.variable  \\\n",
       "0                        0.857143                                 0.600000   \n",
       "1                        0.900000                                 0.500000   \n",
       "2                        1.000000                                 1.000000   \n",
       "3                        1.000000                                 0.857143   \n",
       "4                        1.000000                                 1.000000   \n",
       "\n",
       "   Enter.given.part.in.proportion  Enter.proportion.label.in.denominator  \\\n",
       "0                        0.600000                               0.800000   \n",
       "1                        0.833333                               1.000000   \n",
       "2                        1.000000                               0.916667   \n",
       "3                        0.857143                               1.000000   \n",
       "4                        1.000000                               0.818182   \n",
       "\n",
       "   Enter.proportion.label.in.numerator  \\\n",
       "0                             0.466667   \n",
       "1                             1.000000   \n",
       "2                             0.916667   \n",
       "3                             0.846154   \n",
       "4                             0.818182   \n",
       "\n",
       "   Calculate.total.in.proportion.with.fractions  \\\n",
       "0                                           1.0   \n",
       "1                                           1.0   \n",
       "2                                           0.8   \n",
       "3                                           1.0   \n",
       "4                                           1.0   \n",
       "\n",
       "   Choose.operator.in.fractional.identity  \\\n",
       "0                                       1   \n",
       "1                                       1   \n",
       "2                                       1   \n",
       "3                                       1   \n",
       "4                                       1   \n",
       "\n",
       "   Enter.denominator.of.given.unit.rate.in.proportion  \\\n",
       "0                                               1.00    \n",
       "1                                               0.75    \n",
       "2                                               1.00    \n",
       "3                                               1.00    \n",
       "4                                               1.00    \n",
       "\n",
       "   Enter.given.total.in.proportion  Enter.numerator.of.form.of.1  \\\n",
       "0                         0.600000                      0.933333   \n",
       "1                         0.777778                      0.230769   \n",
       "2                         0.833333                      0.916667   \n",
       "3                         0.833333                      0.833333   \n",
       "4                         1.000000                      0.909091   \n",
       "\n",
       "   Enter.denominator.of.form.of.1  Enter.part.in.proportion.with.variable  \\\n",
       "0                        1.000000                                0.800000   \n",
       "1                        0.500000                                0.500000   \n",
       "2                        0.875000                                0.666667   \n",
       "3                        0.818182                                0.800000   \n",
       "4                        1.000000                                1.000000   \n",
       "\n",
       "   Enter.numerator.of.given.unit.rate.in.proportion  \\\n",
       "0                                              0.25   \n",
       "1                                              0.25   \n",
       "2                                              1.00   \n",
       "3                                              1.00   \n",
       "4                                              1.00   \n",
       "\n",
       "   Enter.numerator.of.given.fraction.in.proportion  \\\n",
       "0                                         0.375000   \n",
       "1                                         0.500000   \n",
       "2                                         0.666667   \n",
       "3                                         0.666667   \n",
       "4                                         1.000000   \n",
       "\n",
       "   Enter.Calculated.value.of.ratio  \\\n",
       "0                         1.000000   \n",
       "1                         0.833333   \n",
       "2                         1.000000   \n",
       "3                         1.000000   \n",
       "4                         1.000000   \n",
       "\n",
       "   Enter.denominator.of.given.fraction.in.proportion  \\\n",
       "0                                           0.625000   \n",
       "1                                           0.833333   \n",
       "2                                           1.000000   \n",
       "3                                           0.571429   \n",
       "4                                           0.750000   \n",
       "\n",
       "   Calculate.part.in.proportion.with.fractions  \n",
       "0                                     0.800000  \n",
       "1                                     0.333333  \n",
       "2                                     1.000000  \n",
       "3                                     0.833333  \n",
       "4                                     0.875000  "
      ]
     },
     "execution_count": 13,
     "metadata": {},
     "output_type": "execute_result"
    }
   ],
   "source": [
    "df.head()"
   ]
  },
  {
   "cell_type": "code",
   "execution_count": 14,
   "id": "10b468a9",
   "metadata": {},
   "outputs": [
    {
     "data": {
      "text/plain": [
       "19"
      ]
     },
     "execution_count": 14,
     "metadata": {},
     "output_type": "execute_result"
    }
   ],
   "source": [
    "kcs = list(df.columns)[1:]\n",
    "len(kcs)"
   ]
  },
  {
   "cell_type": "code",
   "execution_count": 15,
   "id": "8df728fe",
   "metadata": {},
   "outputs": [
    {
     "data": {
      "text/plain": [
       "0.8428225637851066"
      ]
     },
     "execution_count": 15,
     "metadata": {},
     "output_type": "execute_result"
    }
   ],
   "source": [
    "df[kcs].mean().mean()"
   ]
  },
  {
   "cell_type": "code",
   "execution_count": 16,
   "id": "98e4dbeb",
   "metadata": {
    "scrolled": true
   },
   "outputs": [],
   "source": [
    "for i in range(len(kcs)):\n",
    "    df.loc[df[kcs[i]] >= 0.65, kcs[i]] = 1\n",
    "    df.loc[df[kcs[i]] < 0.65, kcs[i]] = 0"
   ]
  },
  {
   "cell_type": "code",
   "execution_count": 17,
   "id": "4e3bcf33",
   "metadata": {},
   "outputs": [
    {
     "data": {
      "text/plain": [
       "0.8528947368421054"
      ]
     },
     "execution_count": 17,
     "metadata": {},
     "output_type": "execute_result"
    }
   ],
   "source": [
    "df[kcs].mean().mean()"
   ]
  },
  {
   "cell_type": "code",
   "execution_count": 18,
   "id": "c687a591",
   "metadata": {},
   "outputs": [],
   "source": [
    "df.to_csv('./my_algebra_ratio3000_ordered_binary.csv', index=False)"
   ]
  },
  {
   "cell_type": "code",
   "execution_count": null,
   "id": "2c174ae6",
   "metadata": {},
   "outputs": [],
   "source": []
  }
 ],
 "metadata": {
  "kernelspec": {
   "display_name": "Python 3 (ipykernel)",
   "language": "python",
   "name": "python3"
  },
  "language_info": {
   "codemirror_mode": {
    "name": "ipython",
    "version": 3
   },
   "file_extension": ".py",
   "mimetype": "text/x-python",
   "name": "python",
   "nbconvert_exporter": "python",
   "pygments_lexer": "ipython3",
   "version": "3.8.13"
  }
 },
 "nbformat": 4,
 "nbformat_minor": 5
}
