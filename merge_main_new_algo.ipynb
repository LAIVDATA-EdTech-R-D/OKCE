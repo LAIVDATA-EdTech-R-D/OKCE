{
 "cells": [
  {
   "cell_type": "code",
   "execution_count": 1,
   "id": "cb9e7e51",
   "metadata": {},
   "outputs": [],
   "source": [
    "import rpy2.robjects as robjects\n",
    "import argparse\n",
    "import os\n",
    "import json\n",
    "import warnings\n",
    "import pandas as pd\n",
    "import numpy as np\n",
    "import time\n",
    "import random\n",
    "import collections\n",
    "import copy\n",
    "\n",
    "import torch\n",
    "\n",
    "from op_main import OperatorNetInit\n",
    "from train import train\n",
    "\n",
    "warnings.filterwarnings(action='ignore')"
   ]
  },
  {
   "cell_type": "code",
   "execution_count": 2,
   "id": "7deac4c1",
   "metadata": {},
   "outputs": [
    {
     "data": {
      "text/html": [
       "<style>.container { width:70% !important; }</style>"
      ],
      "text/plain": [
       "<IPython.core.display.HTML object>"
      ]
     },
     "metadata": {},
     "output_type": "display_data"
    }
   ],
   "source": [
    "from IPython.core.display import display, HTML\n",
    "display(HTML(\"<style>.container { width:70% !important; }</style>\"))"
   ]
  },
  {
   "cell_type": "code",
   "execution_count": 3,
   "id": "fb6ece29",
   "metadata": {},
   "outputs": [],
   "source": [
    "def seed_everything(seed: int = 42):\n",
    "    random.seed(seed)\n",
    "    np.random.seed(seed)\n",
    "    os.environ[\"PYTHONHASHSEED\"] = str(seed)\n",
    "    torch.manual_seed(seed)\n",
    "    torch.cuda.manual_seed(seed)  # type: ignore\n",
    "    torch.backends.cudnn.deterministic = True  # type: ignore\n",
    "    torch.backends.cudnn.benchmark = True  # type: ignore"
   ]
  },
  {
   "cell_type": "code",
   "execution_count": 4,
   "id": "507ca29e",
   "metadata": {},
   "outputs": [
    {
     "name": "stdout",
     "output_type": "stream",
     "text": [
      "####################  FIR-DKT START  ####################\n"
     ]
    }
   ],
   "source": [
    "print(\"#\"*20,\" FIR-DKT START \", \"#\"*20)\n",
    "\n",
    "num_partial_kc = 12\n",
    "num_candidate_kc = 10\n",
    "num_total_kc = 20\n",
    "num_logs = 1000\n",
    "target_err = 0.05"
   ]
  },
  {
   "cell_type": "code",
   "execution_count": 5,
   "id": "d443d9cc",
   "metadata": {},
   "outputs": [],
   "source": [
    "# 전체 세트에서 첫번째 subset 반환\n",
    "def SelPartialKCs(json_path, data_path):\n",
    "    sub_kcs = np.zeros(num_partial_kc)\n",
    "    \n",
    "    #json_path = './info_back.json'\n",
    "    # 기존 json 파일 읽어오기\n",
    "    with open(json_path, 'r') as file:\n",
    "        data = json.load(file)\n",
    "\n",
    "    # 데이터 수정\n",
    "    data[0]['input_file_name'] = str(data_path)\n",
    "\n",
    "    # 기존 json 파일 덮어쓰기\n",
    "    with open(json_path, 'w', encoding='utf-8') as file:\n",
    "        json.dump(data, file, indent=\"\\t\", ensure_ascii=False)\n",
    "\n",
    "    # R 관계 분석 실행\n",
    "    robjects.r.source('./20220731_RF_LASSO.R', encoding='utf-8')\n",
    "    \n",
    "    # 결과 파일 가져와서 정제하기\n",
    "    subset_df = pd.read_csv('./OUT/relation.csv')\n",
    "    \n",
    "    all_kcs = list(subset_df['before'].unique())\n",
    "    \n",
    "    \n",
    "    # sub_kcs 는 첫번째 원소는 before, 그 뒤는 모두 rank 순으로 after임.\n",
    "    sub_kcs = {}\n",
    "    for i in range(len(all_kcs)):\n",
    "        cond = subset_df['before'] == all_kcs[0]\n",
    "        after_kcs = list(subset_df[cond]['after'])\n",
    "\n",
    "        sub_kcs[all_kcs[i]] = after_kcs\n",
    "    \n",
    "    \n",
    "    # 후보로 뽑힌 12개 KC 반환\n",
    "    return all_kcs, sub_kcs"
   ]
  },
  {
   "cell_type": "code",
   "execution_count": 6,
   "id": "a88703f6",
   "metadata": {},
   "outputs": [],
   "source": [
    "def DoOperatorNet(data_path, n_epochs, kc_candidates, target_KC):\n",
    "    # operator net을 위한 init\n",
    "    model, n_epochs,train_loader,device,optimizer,valid_loader,n_items, items,acc_history, auc_history,f1_score_history = OperatorNetInit(data_path, n_epochs, kc_candidates, target_KC)\n",
    "\n",
    "    print(\"=\"*20 + \"TRAIN START\" + \"=\"*20)\n",
    "    train(model, n_epochs,train_loader,device,optimizer,valid_loader,n_items,acc_history, auc_history,f1_score_history)\n",
    "    print(\"=\"*20 + \"TRAIN END\" + \"=\"*20)\n",
    "    \n",
    "    influence_mat = model.influence_matrix()\n",
    "    influence_sum = []\n",
    "    for i in range(n_items-1):\n",
    "        influence_sum.append(sum(influence_mat[i]))\n",
    "    \n",
    "    rank = sorted(range(len(influence_sum)), key=lambda k: influence_sum[k], reverse=True)\n",
    "    \n",
    "#    print(\"Rank of KCs:\")\n",
    "#    print(items[rank])\n",
    "#    for i in range(10):\n",
    "#        print(items[rank.index(i)])\n",
    "\n",
    "#    print(f1_score_history,auc_history, acc_history)\n",
    "    \n",
    "    ranked_kc_rel = items[rank]\n",
    "    cur_err = max(auc_history)\n",
    "\n",
    "    return ranked_kc_rel, cur_err"
   ]
  },
  {
   "cell_type": "code",
   "execution_count": 7,
   "id": "b995eabf",
   "metadata": {},
   "outputs": [],
   "source": [
    "def SelectKCSet(KC_picking_tb, KC_candidates):\n",
    "    pick_n = 5 - len(KC_candidates)\n",
    "    m = pick_n - 1\n",
    "    \n",
    "    KC_picking_tb = dict(sorted(KC_picking_tb.items(), key=lambda x:x[1], reverse=False))\n",
    "#    print(\"low : \", KC_picking_tb)\n",
    "    low_set = []\n",
    "    for key, value in KC_picking_tb.items():\n",
    "        if key not in KC_candidates:\n",
    "            low_set.append(key)\n",
    "        if len(low_set) >= 3:\n",
    "            break\n",
    "    pick1 = random.sample(low_set, 1)\n",
    "    KC_candidates.extend(pick1)\n",
    "    \n",
    "    KC_picking_tb = dict(sorted(KC_picking_tb.items(), key=lambda x:x[1], reverse=True))\n",
    "#    print(\"high : \", KC_picking_tb)\n",
    "    high_set = []\n",
    "    for key, value in KC_picking_tb.items():\n",
    "        if key not in KC_candidates:\n",
    "            high_set.append(key)\n",
    "        if len(high_set) >= 4:\n",
    "            break\n",
    "    pick2 = random.sample(high_set, m)\n",
    "    KC_candidates.extend(pick2)\n",
    "    \n",
    "    # picking table update\n",
    "    picks = pick1+pick2\n",
    "    print(\"pick1 : \", pick1)\n",
    "    print(\"pick2 : \", pick2)\n",
    "    for i in range(len(picks)):\n",
    "        KC_picking_tb[picks[i]] += 1 \n",
    "    print(\"4 KC_picking_tb +++++ : \", KC_picking_tb)\n",
    "\n",
    "    return KC_candidates, KC_picking_tb"
   ]
  },
  {
   "cell_type": "code",
   "execution_count": null,
   "id": "539b106f",
   "metadata": {},
   "outputs": [],
   "source": []
  },
  {
   "cell_type": "code",
   "execution_count": 8,
   "id": "e9d1ab7a",
   "metadata": {},
   "outputs": [],
   "source": [
    "seed = 42\n",
    "json_path = './info_back.json'\n",
    "os.environ[\"CUDA_VISIBLE_DEVICES\"] = \"0\"\n",
    "data_path = \"./data/select_test.csv\"\n",
    "n_epochs = 100"
   ]
  },
  {
   "cell_type": "code",
   "execution_count": 9,
   "id": "c333cdc5",
   "metadata": {},
   "outputs": [],
   "source": [
    "#GetRankedKCGraph(json_path, data_path)"
   ]
  },
  {
   "cell_type": "code",
   "execution_count": null,
   "id": "0aff1a90",
   "metadata": {},
   "outputs": [],
   "source": []
  },
  {
   "cell_type": "code",
   "execution_count": 10,
   "id": "f009001d",
   "metadata": {},
   "outputs": [],
   "source": [
    "# 결과 파일 가져와서 정제하기\n",
    "subset_df = pd.read_csv('./OUT/select_test.csv')\n",
    "\n",
    "all_kcs = list(subset_df['before'].unique())\n",
    "\n",
    "\n",
    "# sub_kcs 는 첫번째 원소는 before, 그 뒤는 모두 rank 순으로 after임.\n",
    "sub_kcs = {}\n",
    "for i in range(len(all_kcs)):\n",
    "    cond = subset_df['before'] == all_kcs[i]\n",
    "    after_kcs = list(subset_df[cond]['after'])\n",
    "\n",
    "    sub_kcs[all_kcs[i]] = after_kcs"
   ]
  },
  {
   "cell_type": "code",
   "execution_count": 11,
   "id": "3fe6381c",
   "metadata": {},
   "outputs": [
    {
     "data": {
      "text/html": [
       "<div>\n",
       "<style scoped>\n",
       "    .dataframe tbody tr th:only-of-type {\n",
       "        vertical-align: middle;\n",
       "    }\n",
       "\n",
       "    .dataframe tbody tr th {\n",
       "        vertical-align: top;\n",
       "    }\n",
       "\n",
       "    .dataframe thead th {\n",
       "        text-align: right;\n",
       "    }\n",
       "</style>\n",
       "<table border=\"1\" class=\"dataframe\">\n",
       "  <thead>\n",
       "    <tr style=\"text-align: right;\">\n",
       "      <th></th>\n",
       "      <th>target</th>\n",
       "      <th>rel1</th>\n",
       "      <th>rel2</th>\n",
       "      <th>rel3</th>\n",
       "      <th>rel4</th>\n",
       "      <th>rel5</th>\n",
       "      <th>auc</th>\n",
       "    </tr>\n",
       "  </thead>\n",
       "  <tbody>\n",
       "  </tbody>\n",
       "</table>\n",
       "</div>"
      ],
      "text/plain": [
       "Empty DataFrame\n",
       "Columns: [target, rel1, rel2, rel3, rel4, rel5, auc]\n",
       "Index: []"
      ]
     },
     "execution_count": 11,
     "metadata": {},
     "output_type": "execute_result"
    }
   ],
   "source": [
    "#result_df = pd.DataFrame(index=range(0), columns=['target','rel1','rel2','rel3','rel4','rel5','rel6','rel7','rel8','rel9','rel10','auc'])\n",
    "result_df = pd.DataFrame(index=range(0), columns=['target','rel1','rel2','rel3','rel4','rel5','auc'])\n",
    "result_df"
   ]
  },
  {
   "cell_type": "code",
   "execution_count": 19,
   "id": "e4d4170d",
   "metadata": {
    "scrolled": false
   },
   "outputs": [
    {
     "name": "stdout",
     "output_type": "stream",
     "text": [
      "KC_picking_tb :  {'D': 0, 'M': 0, 'N': 0, 'L': 0, 'E': 0, 'K': 0, 'O': 0, 'Q': 0, 'S': 0, 'B': 0, 'H': 0, 'F': 0}\n",
      "====================DATA LOADING====================\n",
      "size of train_data :  1800\n",
      "size of valid_data :  900\n",
      "size of test_data :  300\n",
      "====================TRAIN PREPARE====================\n",
      "device:  cuda\n",
      "--------------------MODEL PREPARE--------------------\n",
      "DKT(\n",
      "  (rnn): LSTM(12, 50, num_layers=4, dropout=0.2)\n",
      "  (layers): Sequential(\n",
      "    (0): Linear(in_features=50, out_features=6, bias=True)\n",
      "    (1): Sigmoid()\n",
      "  )\n",
      ")\n",
      "====================TRAIN START====================\n"
     ]
    },
    {
     "name": "stderr",
     "output_type": "stream",
     "text": [
      "100%|█████████████████████████████████████████| 100/100 [00:11<00:00,  9.03it/s]\n"
     ]
    },
    {
     "name": "stdout",
     "output_type": "stream",
     "text": [
      "The best validation roc_auc_score from epoch 100: 0.7222\n",
      "====================TRAIN END====================\n",
      "처음 :  ['E' 'K' 'L' 'S' 'O']\n",
      "다음 턴에 들어갈 KC KC:  ['E', 'D', 'Q', 'S', 'K']\n",
      "1 KC_picking_tb +++++ :  {'D': 1, 'M': 0, 'N': 0, 'L': 0, 'E': 1, 'K': 1, 'O': 0, 'Q': 1, 'S': 1, 'B': 0, 'H': 0, 'F': 0}\n",
      "$$$$$$$$$$$$$$$$$$$$ iter :  0\n",
      "11ranked_kc_rel : ['E', 'D', 'Q', 'S', 'K']\n",
      "====================DATA LOADING====================\n",
      "size of train_data :  1800\n",
      "size of valid_data :  900\n",
      "size of test_data :  300\n",
      "====================TRAIN PREPARE====================\n",
      "device:  cuda\n",
      "--------------------MODEL PREPARE--------------------\n",
      "DKT(\n",
      "  (rnn): LSTM(12, 50, num_layers=4, dropout=0.2)\n",
      "  (layers): Sequential(\n",
      "    (0): Linear(in_features=50, out_features=6, bias=True)\n",
      "    (1): Sigmoid()\n",
      "  )\n",
      ")\n",
      "====================TRAIN START====================\n"
     ]
    },
    {
     "name": "stderr",
     "output_type": "stream",
     "text": [
      "100%|█████████████████████████████████████████| 100/100 [00:11<00:00,  8.99it/s]\n"
     ]
    },
    {
     "name": "stdout",
     "output_type": "stream",
     "text": [
      "The best validation roc_auc_score from epoch 33: 0.7275\n",
      "====================TRAIN END====================\n",
      "22ranked_kc_rel : ['D' 'S' 'K' 'Q' 'E']\n",
      "다른 셋이면서 현재 AUC 직전 것보다 높음\n",
      "다른 셋이면서 현재 AUC best보다 높음\n",
      "2 KC_picking_tb +++++ :  {'D': 2, 'M': 0, 'N': 0, 'L': 0, 'E': 1, 'K': 1, 'O': 0, 'Q': 2, 'S': 1, 'B': 0, 'H': 0, 'F': 0}\n",
      "3 KC_picking_tb ----- :  {'D': 2, 'M': 0, 'N': 0, 'L': 0, 'E': 0, 'K': 0, 'O': 0, 'Q': 2, 'S': 0, 'B': 0, 'H': 0, 'F': 0}\n",
      "pick1 :  ['L']\n",
      "pick2 :  ['N', 'E']\n",
      "4 KC_picking_tb +++++ :  {'D': 2, 'Q': 2, 'M': 0, 'N': 1, 'L': 1, 'E': 1, 'K': 0, 'O': 0, 'S': 0, 'B': 0, 'H': 0, 'F': 0}\n",
      "\n",
      "best_kcs : ['D' 'S' 'K' 'Q' 'E']\n",
      "before_kcs : ['E' 'K' 'L' 'S' 'O']\n",
      "ranked_kc_rel : ['D' 'S' 'K' 'Q' 'E']\n",
      "new_kcs : ['Q', 'D']\n",
      "\n",
      "다음 턴에 들어갈 KC KC:  ['Q', 'D', 'L', 'N', 'E']\n",
      "\n",
      "$$$$$$$$$$$$$$$$$$$$ iter :  1\n",
      "11ranked_kc_rel : ['Q', 'D', 'L', 'N', 'E']\n",
      "====================DATA LOADING====================\n",
      "size of train_data :  1800\n",
      "size of valid_data :  900\n",
      "size of test_data :  300\n",
      "====================TRAIN PREPARE====================\n",
      "device:  cuda\n",
      "--------------------MODEL PREPARE--------------------\n",
      "DKT(\n",
      "  (rnn): LSTM(12, 50, num_layers=4, dropout=0.2)\n",
      "  (layers): Sequential(\n",
      "    (0): Linear(in_features=50, out_features=6, bias=True)\n",
      "    (1): Sigmoid()\n",
      "  )\n",
      ")\n",
      "====================TRAIN START====================\n"
     ]
    },
    {
     "name": "stderr",
     "output_type": "stream",
     "text": [
      "100%|█████████████████████████████████████████| 100/100 [00:10<00:00,  9.10it/s]\n"
     ]
    },
    {
     "name": "stdout",
     "output_type": "stream",
     "text": [
      "The best validation roc_auc_score from epoch 26: 0.6991\n",
      "====================TRAIN END====================\n",
      "22ranked_kc_rel : ['E' 'L' 'D' 'N' 'Q']\n",
      "현재 AUC 직전보다 낮음\n",
      "2 KC_picking_tb +++++ :  {'D': 2, 'Q': 2, 'M': 0, 'N': 1, 'L': 1, 'E': 1, 'K': 0, 'O': 0, 'S': 0, 'B': 0, 'H': 0, 'F': 0}\n",
      "3 KC_picking_tb ----- :  {'D': 1, 'Q': 1, 'M': 0, 'N': 0, 'L': 0, 'E': 0, 'K': 0, 'O': 0, 'S': 0, 'B': 0, 'H': 0, 'F': 0}\n",
      "pick1 :  ['L']\n",
      "pick2 :  ['D', 'N', 'M', 'Q']\n",
      "4 KC_picking_tb +++++ :  {'D': 2, 'Q': 2, 'M': 1, 'N': 1, 'L': 1, 'E': 0, 'K': 0, 'O': 0, 'S': 0, 'B': 0, 'H': 0, 'F': 0}\n",
      "\n",
      "best_kcs : ['D' 'S' 'K' 'Q' 'E']\n",
      "before_kcs : ['D' 'S' 'K' 'Q' 'E']\n",
      "ranked_kc_rel : ['E' 'L' 'D' 'N' 'Q']\n",
      "new_kcs : []\n",
      "\n",
      "다음 턴에 들어갈 KC KC:  ['L', 'D', 'N', 'M', 'Q']\n",
      "\n",
      "$$$$$$$$$$$$$$$$$$$$ iter :  2\n",
      "11ranked_kc_rel : ['L', 'D', 'N', 'M', 'Q']\n",
      "====================DATA LOADING====================\n",
      "size of train_data :  1800\n",
      "size of valid_data :  900\n",
      "size of test_data :  300\n",
      "====================TRAIN PREPARE====================\n",
      "device:  cuda\n",
      "--------------------MODEL PREPARE--------------------\n",
      "DKT(\n",
      "  (rnn): LSTM(12, 50, num_layers=4, dropout=0.2)\n",
      "  (layers): Sequential(\n",
      "    (0): Linear(in_features=50, out_features=6, bias=True)\n",
      "    (1): Sigmoid()\n",
      "  )\n",
      ")\n",
      "====================TRAIN START====================\n"
     ]
    },
    {
     "name": "stderr",
     "output_type": "stream",
     "text": [
      "100%|█████████████████████████████████████████| 100/100 [00:10<00:00,  9.12it/s]\n"
     ]
    },
    {
     "name": "stdout",
     "output_type": "stream",
     "text": [
      "The best validation roc_auc_score from epoch 51: 0.7077\n",
      "====================TRAIN END====================\n",
      "22ranked_kc_rel : ['Q' 'M' 'N' 'D' 'L']\n",
      "다른 셋이면서 현재 AUC 직전 것보다 높음\n",
      "다른 셋이면서 현재 AUC가 best와 직전 사이\n",
      "2 KC_picking_tb +++++ :  {'D': 2, 'Q': 2, 'M': 2, 'N': 1, 'L': 1, 'E': 0, 'K': 0, 'O': 0, 'S': 0, 'B': 0, 'H': 0, 'F': 0}\n",
      "3 KC_picking_tb ----- :  {'D': 1, 'Q': 1, 'M': 2, 'N': 0, 'L': 0, 'E': 0, 'K': 0, 'O': 0, 'S': 0, 'B': 0, 'H': 0, 'F': 0}\n",
      "pick1 :  ['N']\n",
      "pick2 :  ['L', 'E', 'Q']\n",
      "4 KC_picking_tb +++++ :  {'M': 2, 'D': 1, 'Q': 2, 'N': 1, 'L': 1, 'E': 1, 'K': 0, 'O': 0, 'S': 0, 'B': 0, 'H': 0, 'F': 0}\n",
      "\n",
      "best_kcs : ['D' 'S' 'K' 'Q' 'E']\n",
      "before_kcs : ['E' 'L' 'D' 'N' 'Q']\n",
      "ranked_kc_rel : ['Q' 'M' 'N' 'D' 'L']\n",
      "new_kcs : ['M']\n",
      "\n",
      "다음 턴에 들어갈 KC KC:  ['M', 'N', 'L', 'E', 'Q']\n",
      "\n",
      "$$$$$$$$$$$$$$$$$$$$ iter :  3\n",
      "11ranked_kc_rel : ['M', 'N', 'L', 'E', 'Q']\n",
      "====================DATA LOADING====================\n",
      "size of train_data :  1800\n",
      "size of valid_data :  900\n",
      "size of test_data :  300\n",
      "====================TRAIN PREPARE====================\n",
      "device:  cuda\n",
      "--------------------MODEL PREPARE--------------------\n",
      "DKT(\n",
      "  (rnn): LSTM(12, 50, num_layers=4, dropout=0.2)\n",
      "  (layers): Sequential(\n",
      "    (0): Linear(in_features=50, out_features=6, bias=True)\n",
      "    (1): Sigmoid()\n",
      "  )\n",
      ")\n",
      "====================TRAIN START====================\n"
     ]
    },
    {
     "name": "stderr",
     "output_type": "stream",
     "text": [
      "100%|█████████████████████████████████████████| 100/100 [00:10<00:00,  9.14it/s]\n"
     ]
    },
    {
     "name": "stdout",
     "output_type": "stream",
     "text": [
      "The best validation roc_auc_score from epoch 100: 0.6759\n",
      "====================TRAIN END====================\n",
      "22ranked_kc_rel : ['E' 'N' 'Q' 'L' 'M']\n",
      "현재 AUC 직전보다 낮음\n",
      "2 KC_picking_tb +++++ :  {'M': 2, 'D': 1, 'Q': 2, 'N': 1, 'L': 1, 'E': 1, 'K': 0, 'O': 0, 'S': 0, 'B': 0, 'H': 0, 'F': 0}\n",
      "3 KC_picking_tb ----- :  {'M': 1, 'D': 1, 'Q': 1, 'N': 0, 'L': 0, 'E': 0, 'K': 0, 'O': 0, 'S': 0, 'B': 0, 'H': 0, 'F': 0}\n",
      "pick1 :  ['L']\n",
      "pick2 :  ['N', 'Q', 'M', 'D']\n",
      "4 KC_picking_tb +++++ :  {'M': 2, 'D': 2, 'Q': 2, 'N': 1, 'L': 1, 'E': 0, 'K': 0, 'O': 0, 'S': 0, 'B': 0, 'H': 0, 'F': 0}\n",
      "\n",
      "best_kcs : ['D' 'S' 'K' 'Q' 'E']\n",
      "before_kcs : ['Q' 'M' 'N' 'D' 'L']\n",
      "ranked_kc_rel : ['E' 'N' 'Q' 'L' 'M']\n",
      "new_kcs : []\n",
      "\n",
      "다음 턴에 들어갈 KC KC:  ['L', 'N', 'Q', 'M', 'D']\n",
      "\n",
      "$$$$$$$$$$$$$$$$$$$$ iter :  4\n",
      "11ranked_kc_rel : ['L', 'N', 'Q', 'M', 'D']\n",
      "====================DATA LOADING====================\n",
      "size of train_data :  1800\n",
      "size of valid_data :  900\n",
      "size of test_data :  300\n",
      "====================TRAIN PREPARE====================\n",
      "device:  cuda\n",
      "--------------------MODEL PREPARE--------------------\n",
      "DKT(\n",
      "  (rnn): LSTM(12, 50, num_layers=4, dropout=0.2)\n",
      "  (layers): Sequential(\n",
      "    (0): Linear(in_features=50, out_features=6, bias=True)\n",
      "    (1): Sigmoid()\n",
      "  )\n",
      ")\n",
      "====================TRAIN START====================\n"
     ]
    },
    {
     "name": "stderr",
     "output_type": "stream",
     "text": [
      "100%|█████████████████████████████████████████| 100/100 [00:11<00:00,  9.07it/s]"
     ]
    },
    {
     "name": "stdout",
     "output_type": "stream",
     "text": [
      "The best validation roc_auc_score from epoch 80: 0.6887\n",
      "====================TRAIN END====================\n",
      "22ranked_kc_rel : ['M' 'D' 'Q' 'N' 'L']\n",
      "다른 셋이면서 현재 AUC 직전 것보다 높음\n",
      "다른 셋이면서 현재 AUC가 best와 직전 사이\n",
      "2 KC_picking_tb +++++ :  {'M': 2, 'D': 3, 'Q': 2, 'N': 1, 'L': 1, 'E': 0, 'K': 0, 'O': 0, 'S': 0, 'B': 0, 'H': 0, 'F': 0}\n",
      "3 KC_picking_tb ----- :  {'M': 1, 'D': 3, 'Q': 1, 'N': 0, 'L': 0, 'E': 0, 'K': 0, 'O': 0, 'S': 0, 'B': 0, 'H': 0, 'F': 0}\n",
      "pick1 :  ['N']\n",
      "pick2 :  ['E', 'M', 'Q']\n",
      "4 KC_picking_tb +++++ :  {'D': 3, 'M': 2, 'Q': 2, 'N': 1, 'L': 0, 'E': 1, 'K': 0, 'O': 0, 'S': 0, 'B': 0, 'H': 0, 'F': 0}\n",
      "\n",
      "best_kcs : ['D' 'S' 'K' 'Q' 'E']\n",
      "before_kcs : ['E' 'N' 'Q' 'L' 'M']\n",
      "ranked_kc_rel : ['M' 'D' 'Q' 'N' 'L']\n",
      "new_kcs : ['D']\n",
      "\n",
      "다음 턴에 들어갈 KC KC:  ['D', 'N', 'E', 'M', 'Q']\n",
      "\n"
     ]
    },
    {
     "name": "stderr",
     "output_type": "stream",
     "text": [
      "\n"
     ]
    }
   ],
   "source": [
    "result_df = pd.DataFrame(index=range(0), columns=['target','rel1','rel2','rel3','rel4','rel5','auc'])\n",
    "\n",
    "#for kc_idx in range(num_total_kc):\n",
    "for kc_idx in range(1):\n",
    "    KC_picking_tb = dict(zip(sub_kcs[all_kcs[kc_idx]], [0]*12))\n",
    "    print(\"KC_picking_tb : \", KC_picking_tb)\n",
    "\n",
    "    cnt_best_kcs = 0\n",
    "    best_auc = 0\n",
    "    cur_err = 0\n",
    "    best_kcs = []\n",
    "    kc_candidates = random.sample(sub_kcs[all_kcs[kc_idx]], 5)\n",
    "    new_kcs = []\n",
    "    \n",
    "    # operator net(train)\n",
    "    ranked_kc_rel, cur_err = DoOperatorNet(data_path, n_epochs, kc_candidates, all_kcs[kc_idx])\n",
    "\n",
    "    result_list = []\n",
    "    result_list.append(all_kcs[kc_idx])\n",
    "    result_list.extend(ranked_kc_rel)\n",
    "    result_list.append(cur_err)\n",
    "    result_df = result_df.append(pd.Series(result_list, index=result_df.columns), ignore_index=True)\n",
    "    \n",
    "    before_kcs = copy.deepcopy(ranked_kc_rel)\n",
    "    best_kcs = copy.deepcopy(ranked_kc_rel)\n",
    "    best_auc = copy.deepcopy(cur_err)\n",
    "\n",
    "    print(\"처음 : \", ranked_kc_rel)\n",
    "\n",
    "    kc_candidates = random.sample(sub_kcs[all_kcs[kc_idx]], 5)\n",
    "    print(\"다음 턴에 들어갈 KC KC: \", kc_candidates)\n",
    "    \n",
    "    # picking table update\n",
    "    for i in range(len(kc_candidates)):\n",
    "        KC_picking_tb[kc_candidates[i]] += 1\n",
    "    print(\"1 KC_picking_tb +++++ : \", KC_picking_tb)\n",
    "\n",
    "    for i in range(5): \n",
    "        print(\"$\"*20,\"iter : \", i)\n",
    "        \n",
    "        # operator net(train)\n",
    "        print(\"11ranked_kc_rel :\", kc_candidates)\n",
    "        ranked_kc_rel, cur_err = DoOperatorNet(data_path, n_epochs, kc_candidates, all_kcs[kc_idx])\n",
    "        print(\"22ranked_kc_rel :\", ranked_kc_rel)\n",
    "\n",
    "        result_list = []\n",
    "        result_list.append(all_kcs[kc_idx])\n",
    "        result_list.extend(ranked_kc_rel)\n",
    "        result_list.append(cur_err)\n",
    "        result_df = result_df.append(pd.Series(result_list, index=result_df.columns), ignore_index=True)\n",
    "\n",
    "        before_auc = result_df['auc'].iloc[-2]\n",
    "\n",
    "        \n",
    "        # 결과에 대한 판단 시작\n",
    "        # best set이 똑같은 게 3번 나오면 for문 종료\n",
    "        if cnt_best_kcs >= 3:\n",
    "            print(\"Early Stopping\")\n",
    "            print(\"Best KC Set: \", best_kcs)\n",
    "            print(\"Best AUC: \", best_auc)\n",
    "            break\n",
    " \n",
    "        # 현재와 best set이 같을 때\n",
    "        if set(ranked_kc_rel) == set(best_kcs):\n",
    "            print(\"같은 셋이 나왔음\")\n",
    "            cnt_best_kcs += 1\n",
    "            before_kcs = copy.deepcopy(best_kcs)\n",
    "            new_kcs = []\n",
    "        # 현재 AUC가 직전 AUC보다 높다면\n",
    "        elif cur_err >= before_auc:\n",
    "            print(\"다른 셋이면서 현재 AUC 직전 것보다 높음\")\n",
    "            # 현재 AUC가 best보다 높다면\n",
    "            if cur_err > best_auc:\n",
    "                print(\"다른 셋이면서 현재 AUC best보다 높음\")\n",
    "                cnt_best_kcs = 1\n",
    "                before_kcs = copy.deepcopy(best_kcs)\n",
    "                best_kcs = copy.deepcopy(ranked_kc_rel)\n",
    "                best_auc = cur_err\n",
    "                new_kcs = list(set(ranked_kc_rel) - set(before_kcs))\n",
    "            else: # 다른 셋이면서 직전과 best 사이\n",
    "                print(\"다른 셋이면서 현재 AUC가 best와 직전 사이\")\n",
    "                new_kcs = list(set(ranked_kc_rel) - set(before_kcs))\n",
    "        # 현재 AUC가 직전 AUC보다 낮다면\n",
    "        else:\n",
    "            print(\"현재 AUC 직전보다 낮음\")\n",
    "            new_kcs = []\n",
    "        \n",
    "        \n",
    "        kc_candidates = []\n",
    "        kc_candidates.extend(new_kcs)\n",
    "\n",
    "        # picking table update\n",
    "        for i in range(len(new_kcs)):\n",
    "            KC_picking_tb[new_kcs[i]] += 1\n",
    "        print(\"2 KC_picking_tb +++++ : \", KC_picking_tb)\n",
    "\n",
    "        org_kcs = list(set.difference(set(ranked_kc_rel) - set(new_kcs)))\n",
    "        # picking table update\n",
    "        for i in range(len(org_kcs)):\n",
    "            KC_picking_tb[org_kcs[i]] -= 1\n",
    "        print(\"3 KC_picking_tb ----- : \", KC_picking_tb)\n",
    "\n",
    "        if len(kc_candidates) < 5:\n",
    "            kc_candidates, KC_picking_tb = SelectKCSet(KC_picking_tb, kc_candidates)\n",
    "        \n",
    "        print()\n",
    "        print(\"best_kcs :\", best_kcs)\n",
    "        print(\"before_kcs :\", before_kcs)        \n",
    "        print(\"ranked_kc_rel :\", ranked_kc_rel)\n",
    "        print(\"new_kcs :\", new_kcs)\n",
    "        print()\n",
    "        \n",
    "        before_kcs = copy.deepcopy(ranked_kc_rel)\n",
    "        print(\"다음 턴에 들어갈 KC KC: \", kc_candidates)\n",
    "        print()\n",
    "        \n",
    "    with open('./OUT/0822KC_picking_tb.txt','w',encoding='UTF-8') as f:\n",
    "        for code,name in KC_picking_tb.items():\n",
    "            f.write(f'{code} : {name}\\n')"
   ]
  },
  {
   "cell_type": "code",
   "execution_count": 20,
   "id": "7db47a97",
   "metadata": {},
   "outputs": [
    {
     "data": {
      "text/plain": [
       "['D', 'N', 'E', 'M', 'Q']"
      ]
     },
     "execution_count": 20,
     "metadata": {},
     "output_type": "execute_result"
    }
   ],
   "source": [
    "kc_candidates"
   ]
  },
  {
   "cell_type": "code",
   "execution_count": 21,
   "id": "e67a7032",
   "metadata": {},
   "outputs": [
    {
     "data": {
      "text/plain": [
       "{'D': 3,\n",
       " 'M': 2,\n",
       " 'Q': 2,\n",
       " 'N': 1,\n",
       " 'L': 0,\n",
       " 'E': 1,\n",
       " 'K': 0,\n",
       " 'O': 0,\n",
       " 'S': 0,\n",
       " 'B': 0,\n",
       " 'H': 0,\n",
       " 'F': 0}"
      ]
     },
     "execution_count": 21,
     "metadata": {},
     "output_type": "execute_result"
    }
   ],
   "source": [
    "KC_picking_tb"
   ]
  },
  {
   "cell_type": "code",
   "execution_count": 22,
   "id": "23f35b84",
   "metadata": {},
   "outputs": [
    {
     "data": {
      "text/plain": [
       "array(['M', 'D', 'Q', 'N', 'L'], dtype=object)"
      ]
     },
     "execution_count": 22,
     "metadata": {},
     "output_type": "execute_result"
    }
   ],
   "source": [
    "ranked_kc_rel"
   ]
  },
  {
   "cell_type": "code",
   "execution_count": 23,
   "id": "d85a0f34",
   "metadata": {},
   "outputs": [
    {
     "data": {
      "text/plain": [
       "array(['D', 'S', 'K', 'Q', 'E'], dtype=object)"
      ]
     },
     "execution_count": 23,
     "metadata": {},
     "output_type": "execute_result"
    }
   ],
   "source": [
    "best_kcs"
   ]
  },
  {
   "cell_type": "code",
   "execution_count": 24,
   "id": "7a51ec39",
   "metadata": {},
   "outputs": [
    {
     "data": {
      "text/plain": [
       "1"
      ]
     },
     "execution_count": 24,
     "metadata": {},
     "output_type": "execute_result"
    }
   ],
   "source": [
    "cnt_best_kcs"
   ]
  },
  {
   "cell_type": "code",
   "execution_count": 25,
   "id": "48804dda",
   "metadata": {},
   "outputs": [
    {
     "data": {
      "text/html": [
       "<div>\n",
       "<style scoped>\n",
       "    .dataframe tbody tr th:only-of-type {\n",
       "        vertical-align: middle;\n",
       "    }\n",
       "\n",
       "    .dataframe tbody tr th {\n",
       "        vertical-align: top;\n",
       "    }\n",
       "\n",
       "    .dataframe thead th {\n",
       "        text-align: right;\n",
       "    }\n",
       "</style>\n",
       "<table border=\"1\" class=\"dataframe\">\n",
       "  <thead>\n",
       "    <tr style=\"text-align: right;\">\n",
       "      <th></th>\n",
       "      <th>target</th>\n",
       "      <th>rel1</th>\n",
       "      <th>rel2</th>\n",
       "      <th>rel3</th>\n",
       "      <th>rel4</th>\n",
       "      <th>rel5</th>\n",
       "      <th>auc</th>\n",
       "    </tr>\n",
       "  </thead>\n",
       "  <tbody>\n",
       "    <tr>\n",
       "      <th>0</th>\n",
       "      <td>A</td>\n",
       "      <td>E</td>\n",
       "      <td>K</td>\n",
       "      <td>L</td>\n",
       "      <td>S</td>\n",
       "      <td>O</td>\n",
       "      <td>0.722153</td>\n",
       "    </tr>\n",
       "    <tr>\n",
       "      <th>1</th>\n",
       "      <td>A</td>\n",
       "      <td>D</td>\n",
       "      <td>S</td>\n",
       "      <td>K</td>\n",
       "      <td>Q</td>\n",
       "      <td>E</td>\n",
       "      <td>0.727545</td>\n",
       "    </tr>\n",
       "    <tr>\n",
       "      <th>2</th>\n",
       "      <td>A</td>\n",
       "      <td>E</td>\n",
       "      <td>L</td>\n",
       "      <td>D</td>\n",
       "      <td>N</td>\n",
       "      <td>Q</td>\n",
       "      <td>0.699094</td>\n",
       "    </tr>\n",
       "    <tr>\n",
       "      <th>3</th>\n",
       "      <td>A</td>\n",
       "      <td>Q</td>\n",
       "      <td>M</td>\n",
       "      <td>N</td>\n",
       "      <td>D</td>\n",
       "      <td>L</td>\n",
       "      <td>0.70768</td>\n",
       "    </tr>\n",
       "    <tr>\n",
       "      <th>4</th>\n",
       "      <td>A</td>\n",
       "      <td>E</td>\n",
       "      <td>N</td>\n",
       "      <td>Q</td>\n",
       "      <td>L</td>\n",
       "      <td>M</td>\n",
       "      <td>0.67585</td>\n",
       "    </tr>\n",
       "    <tr>\n",
       "      <th>5</th>\n",
       "      <td>A</td>\n",
       "      <td>M</td>\n",
       "      <td>D</td>\n",
       "      <td>Q</td>\n",
       "      <td>N</td>\n",
       "      <td>L</td>\n",
       "      <td>0.688686</td>\n",
       "    </tr>\n",
       "  </tbody>\n",
       "</table>\n",
       "</div>"
      ],
      "text/plain": [
       "  target rel1 rel2 rel3 rel4 rel5       auc\n",
       "0      A    E    K    L    S    O  0.722153\n",
       "1      A    D    S    K    Q    E  0.727545\n",
       "2      A    E    L    D    N    Q  0.699094\n",
       "3      A    Q    M    N    D    L   0.70768\n",
       "4      A    E    N    Q    L    M   0.67585\n",
       "5      A    M    D    Q    N    L  0.688686"
      ]
     },
     "execution_count": 25,
     "metadata": {},
     "output_type": "execute_result"
    }
   ],
   "source": [
    "result_df"
   ]
  },
  {
   "cell_type": "code",
   "execution_count": 33,
   "id": "345adbea",
   "metadata": {
    "scrolled": true
   },
   "outputs": [
    {
     "data": {
      "text/html": [
       "<div>\n",
       "<style scoped>\n",
       "    .dataframe tbody tr th:only-of-type {\n",
       "        vertical-align: middle;\n",
       "    }\n",
       "\n",
       "    .dataframe tbody tr th {\n",
       "        vertical-align: top;\n",
       "    }\n",
       "\n",
       "    .dataframe thead th {\n",
       "        text-align: right;\n",
       "    }\n",
       "</style>\n",
       "<table border=\"1\" class=\"dataframe\">\n",
       "  <thead>\n",
       "    <tr style=\"text-align: right;\">\n",
       "      <th></th>\n",
       "      <th>rel1</th>\n",
       "      <th>rel2</th>\n",
       "      <th>rel3</th>\n",
       "      <th>rel4</th>\n",
       "      <th>rel5</th>\n",
       "    </tr>\n",
       "  </thead>\n",
       "  <tbody>\n",
       "    <tr>\n",
       "      <th>10</th>\n",
       "      <td>Draw.larger.bar....addition.subtraction</td>\n",
       "      <td>Enter.total.in.diagram...calculated...addition</td>\n",
       "      <td>Enter.smaller.initial.in.diagram....given</td>\n",
       "      <td>Draw.larger.bar....multiplication</td>\n",
       "      <td>Enter.larger.initial.in.diagram....given</td>\n",
       "    </tr>\n",
       "    <tr>\n",
       "      <th>11</th>\n",
       "      <td>Draw.smaller.bar....multiplication</td>\n",
       "      <td>Enter.total.in.diagram...calculated...addition</td>\n",
       "      <td>Draw.larger.bar....multiplication</td>\n",
       "      <td>Draw.larger.bar....addition.subtraction</td>\n",
       "      <td>Enter.larger.initial.in.diagram....given</td>\n",
       "    </tr>\n",
       "    <tr>\n",
       "      <th>12</th>\n",
       "      <td>Draw.smaller.bar....multiplication</td>\n",
       "      <td>Enter.total.in.diagram...calculated...addition</td>\n",
       "      <td>Draw.larger.bar....multiplication</td>\n",
       "      <td>Enter.smaller.initial.in.diagram....given</td>\n",
       "      <td>Draw.larger.bar....addition.subtraction</td>\n",
       "    </tr>\n",
       "    <tr>\n",
       "      <th>13</th>\n",
       "      <td>Draw.smaller.bar....multiplication</td>\n",
       "      <td>Draw.larger.bar....multiplication</td>\n",
       "      <td>Enter.smaller.initial.in.diagram....given</td>\n",
       "      <td>Draw.larger.bar....addition.subtraction</td>\n",
       "      <td>Enter.larger.initial.in.diagram....given</td>\n",
       "    </tr>\n",
       "    <tr>\n",
       "      <th>14</th>\n",
       "      <td>Draw.smaller.bar....multiplication</td>\n",
       "      <td>Enter.total.in.diagram...calculated...addition</td>\n",
       "      <td>Draw.larger.bar....addition.subtraction</td>\n",
       "      <td>Enter.smaller.initial.in.diagram....given</td>\n",
       "      <td>Enter.larger.initial.in.diagram....given</td>\n",
       "    </tr>\n",
       "  </tbody>\n",
       "</table>\n",
       "</div>"
      ],
      "text/plain": [
       "                                       rel1  \\\n",
       "10  Draw.larger.bar....addition.subtraction   \n",
       "11       Draw.smaller.bar....multiplication   \n",
       "12       Draw.smaller.bar....multiplication   \n",
       "13       Draw.smaller.bar....multiplication   \n",
       "14       Draw.smaller.bar....multiplication   \n",
       "\n",
       "                                              rel2  \\\n",
       "10  Enter.total.in.diagram...calculated...addition   \n",
       "11  Enter.total.in.diagram...calculated...addition   \n",
       "12  Enter.total.in.diagram...calculated...addition   \n",
       "13               Draw.larger.bar....multiplication   \n",
       "14  Enter.total.in.diagram...calculated...addition   \n",
       "\n",
       "                                         rel3  \\\n",
       "10  Enter.smaller.initial.in.diagram....given   \n",
       "11          Draw.larger.bar....multiplication   \n",
       "12          Draw.larger.bar....multiplication   \n",
       "13  Enter.smaller.initial.in.diagram....given   \n",
       "14    Draw.larger.bar....addition.subtraction   \n",
       "\n",
       "                                         rel4  \\\n",
       "10          Draw.larger.bar....multiplication   \n",
       "11    Draw.larger.bar....addition.subtraction   \n",
       "12  Enter.smaller.initial.in.diagram....given   \n",
       "13    Draw.larger.bar....addition.subtraction   \n",
       "14  Enter.smaller.initial.in.diagram....given   \n",
       "\n",
       "                                        rel5  \n",
       "10  Enter.larger.initial.in.diagram....given  \n",
       "11  Enter.larger.initial.in.diagram....given  \n",
       "12   Draw.larger.bar....addition.subtraction  \n",
       "13  Enter.larger.initial.in.diagram....given  \n",
       "14  Enter.larger.initial.in.diagram....given  "
      ]
     },
     "execution_count": 33,
     "metadata": {},
     "output_type": "execute_result"
    }
   ],
   "source": [
    "result_df.iloc[10:15,].filter(regex='rel', axis=1)"
   ]
  },
  {
   "cell_type": "code",
   "execution_count": 48,
   "id": "5e96cfa5",
   "metadata": {},
   "outputs": [],
   "source": [
    "a = []\n",
    "a.extend(result_df.iloc[20:25,].filter(regex='rel', axis=1).values.tolist())\n",
    "a = sum(a, [])"
   ]
  },
  {
   "cell_type": "code",
   "execution_count": 49,
   "id": "68513e84",
   "metadata": {},
   "outputs": [
    {
     "data": {
      "text/plain": [
       "6"
      ]
     },
     "execution_count": 49,
     "metadata": {},
     "output_type": "execute_result"
    }
   ],
   "source": [
    "len(set(a))"
   ]
  },
  {
   "cell_type": "code",
   "execution_count": 51,
   "id": "2efefb4c",
   "metadata": {},
   "outputs": [
    {
     "data": {
      "image/png": "[encoded data removed]",
      "text/plain": [
       "<Figure size 432x288 with 1 Axes>"
      ]
     },
     "metadata": {
      "needs_background": "light"
     },
     "output_type": "display_data"
    }
   ],
   "source": [
    "import matplotlib.pyplot as plt\n",
    "result_df['auc'].plot()\n",
    "plt.show()"
   ]
  },
  {
   "cell_type": "code",
   "execution_count": null,
   "id": "642ebdfa",
   "metadata": {},
   "outputs": [],
   "source": []
  },
  {
   "cell_type": "code",
   "execution_count": 27,
   "id": "337f165e",
   "metadata": {},
   "outputs": [],
   "source": [
    "result_df.to_csv('./OUT/FIR_Result_selector_test.csv', index=False)"
   ]
  },
  {
   "cell_type": "code",
   "execution_count": 18,
   "id": "638ea2b7",
   "metadata": {},
   "outputs": [
    {
     "name": "stdout",
     "output_type": "stream",
     "text": [
      " 20220728_RF_LASSO.R   __pycache__\t       merge_main_new_algo.ipynb\r\n",
      " 20220731_RF_LASSO.R   data\t\t       model.py\r\n",
      " 20220802_RF_LASSO.R   data_loader.py\t       op_main.py\r\n",
      " 20220804_RF_LASSO.R   info_back.json\t       result.png\r\n",
      "'FIR DATA.ipynb'       kc_relations_time.csv   train.py\r\n",
      " KC_Ordering.json      merge_main.ipynb\r\n",
      " OUT\t\t       merge_main.py\r\n"
     ]
    }
   ],
   "source": [
    "! ls"
   ]
  },
  {
   "cell_type": "code",
   "execution_count": null,
   "id": "ad53e17d",
   "metadata": {},
   "outputs": [],
   "source": [
    "! git clone "
   ]
  }
 ],
 "metadata": {
  "kernelspec": {
   "display_name": "Python 3 (ipykernel)",
   "language": "python",
   "name": "python3"
  },
  "language_info": {
   "codemirror_mode": {
    "name": "ipython",
    "version": 3
   },
   "file_extension": ".py",
   "mimetype": "text/x-python",
   "name": "python",
   "nbconvert_exporter": "python",
   "pygments_lexer": "ipython3",
   "version": "3.8.13"
  }
 },
 "nbformat": 4,
 "nbformat_minor": 5
}
