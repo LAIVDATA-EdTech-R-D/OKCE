{
 "cells": [
  {
   "cell_type": "code",
   "execution_count": 1,
   "id": "cb9e7e51",
   "metadata": {},
   "outputs": [],
   "source": [
    "import rpy2.robjects as robjects\n",
    "import argparse\n",
    "import os\n",
    "import json\n",
    "import warnings\n",
    "import pandas as pd\n",
    "import numpy as np\n",
    "import time\n",
    "\n",
    "from op_main_copy import OperatorNetInit\n",
    "from train import train\n",
    "\n",
    "warnings.filterwarnings(action='ignore')"
   ]
  },
  {
   "cell_type": "code",
   "execution_count": 4,
   "id": "507ca29e",
   "metadata": {},
   "outputs": [
    {
     "name": "stdout",
     "output_type": "stream",
     "text": [
      "####################  FIR-DKT START  ####################\n"
     ]
    }
   ],
   "source": [
    "print(\"#\"*20,\" FIR-DKT START \", \"#\"*20)\n",
    "\n",
    "num_partial_kc = 12\n",
    "num_candidate_kc = 10\n",
    "num_total_kc = 20\n",
    "num_logs = 1000\n",
    "target_err = 0.05"
   ]
  },
  {
   "cell_type": "code",
   "execution_count": 5,
   "id": "d443d9cc",
   "metadata": {},
   "outputs": [],
   "source": [
    "# 전체 세트에서 첫번째 subset 반환\n",
    "def SelPartialKCs(json_path, data_path):\n",
    "    sub_kcs = np.zeros(num_partial_kc)\n",
    "    \n",
    "    #json_path = './info_back.json'\n",
    "    # 기존 json 파일 읽어오기\n",
    "    with open(json_path, 'r') as file:\n",
    "        data = json.load(file)\n",
    "\n",
    "    # 데이터 수정\n",
    "    data[0]['input_file_name'] = str(data_path)\n",
    "\n",
    "    # 기존 json 파일 덮어쓰기\n",
    "    with open(json_path, 'w', encoding='utf-8') as file:\n",
    "        json.dump(data, file, indent=\"\\t\", ensure_ascii=False)\n",
    "\n",
    "    # R 관계 분석 실행\n",
    "    robjects.r.source('./20220731_RF_LASSO.R', encoding='utf-8')\n",
    "    \n",
    "    # 결과 파일 가져와서 정제하기\n",
    "    subset_df = pd.read_csv('./OUT/relation.csv')\n",
    "    \n",
    "    all_kcs = list(subset_df['before'].unique())\n",
    "    \n",
    "    \n",
    "    # sub_kcs 는 첫번째 원소는 before, 그 뒤는 모두 rank 순으로 after임.\n",
    "    sub_kcs = {}\n",
    "    for i in range(len(all_kcs)):\n",
    "        cond = subset_df['before'] == all_kcs[0]\n",
    "        after_kcs = list(subset_df[cond]['after'])\n",
    "\n",
    "        sub_kcs[all_kcs[i]] = after_kcs\n",
    "    \n",
    "    \n",
    "    # 후보로 뽑힌 12개 KC 반환\n",
    "    return all_kcs, sub_kcs"
   ]
  },
  {
   "cell_type": "code",
   "execution_count": 6,
   "id": "a88703f6",
   "metadata": {},
   "outputs": [],
   "source": [
    "def DoOperatorNet(data_path, n_epochs, kc_candidates, target_KC):\n",
    "    # operator net을 위한 init\n",
    "    model, n_epochs,train_loader,device,optimizer,valid_loader,n_items,acc_history, auc_history,f1_score_history = OperatorNetInit(data_path, n_epochs, kc_candidates, target_KC)\n",
    "\n",
    "    print(\"=\"*20 + \"TRAIN START\" + \"=\"*20)\n",
    "    train(model, n_epochs,train_loader,device,optimizer,valid_loader,n_items,acc_history, auc_history,f1_score_history)\n",
    "    print(\"=\"*20 + \"TRAIN END\" + \"=\"*20)\n",
    "\n",
    "    print(f1_score_history,auc_history, acc_history)\n",
    "    \n",
    "    ranked_kc_rel = f1_score_history\n",
    "    cur_err = auc_history\n",
    "\n",
    "    return ranked_kc_rel, cur_err"
   ]
  },
  {
   "cell_type": "code",
   "execution_count": 7,
   "id": "8f431762",
   "metadata": {},
   "outputs": [],
   "source": [
    "def GetRankedKCGraph(json_path, data_path):\n",
    "    arr_ranked_kc_graph = np.zeros((num_total_kc, num_total_kc))\n",
    "    \n",
    "    # 전체 중 첫번째 subset (12개 KC)\n",
    "    all_kcs, sub_kcs = SelPartialKCs(json_path, data_path)\n",
    "    \n",
    "    \n",
    "    for kc_idx in range(len(num_total_kc)):\n",
    "        # 12개 중 상위 10개 (임의로 상위 10개로 선정한 것. 나중에 수정 예정)\n",
    "        kc_candidates = sub_kcs[all_kcs[kc_idx]][:10]\n",
    "        \n",
    "        \n",
    "        # operator net(train)\n",
    "        ranked_kc_rel, cur_err = DoOperatorNet(data_path, n_epochs, kc_candidates, all_kcs[kc_idx])\n",
    "\n",
    "        print(ranked_kc_rel, cur_err)\n",
    "        exit()"
   ]
  },
  {
   "cell_type": "code",
   "execution_count": 8,
   "id": "e9d1ab7a",
   "metadata": {},
   "outputs": [],
   "source": [
    "json_path = './info_back.json'\n",
    "os.environ[\"CUDA_VISIBLE_DEVICES\"] = \"-1\"\n",
    "data_path = \"./data/my_algebra_picture3000_ordered_binary.csv\"\n",
    "n_epochs = 30"
   ]
  },
  {
   "cell_type": "code",
   "execution_count": 9,
   "id": "c333cdc5",
   "metadata": {},
   "outputs": [],
   "source": [
    "#GetRankedKCGraph(json_path, data_path)"
   ]
  },
  {
   "cell_type": "code",
   "execution_count": null,
   "id": "0aff1a90",
   "metadata": {},
   "outputs": [],
   "source": []
  },
  {
   "cell_type": "code",
   "execution_count": 10,
   "id": "f009001d",
   "metadata": {},
   "outputs": [],
   "source": [
    "# 결과 파일 가져와서 정제하기\n",
    "subset_df = pd.read_csv('./OUT/relation.csv')\n",
    "\n",
    "all_kcs = list(subset_df['before'].unique())\n",
    "\n",
    "\n",
    "# sub_kcs 는 첫번째 원소는 before, 그 뒤는 모두 rank 순으로 after임.\n",
    "sub_kcs = {}\n",
    "for i in range(len(all_kcs)):\n",
    "    cond = subset_df['before'] == all_kcs[i]\n",
    "    after_kcs = list(subset_df[cond]['after'])\n",
    "\n",
    "    sub_kcs[all_kcs[i]] = after_kcs"
   ]
  },
  {
   "cell_type": "code",
   "execution_count": 11,
   "id": "f8c6f0c5",
   "metadata": {},
   "outputs": [
    {
     "data": {
      "text/plain": [
       "['Copy.initial.in.diagram',\n",
       " 'Draw.larger.bar....addition.subtraction',\n",
       " 'Draw.larger.bar....multiplication',\n",
       " 'Draw.smaller.bar....addition.subtraction',\n",
       " 'Draw.smaller.bar....multiplication',\n",
       " 'Enter.added.quantity.in.diagram',\n",
       " 'Enter.initial.in.diagram....given',\n",
       " 'Enter.larger.inital.in.diagram....calculated',\n",
       " 'Enter.larger.initial.in.diagram....given',\n",
       " 'Enter.quantity.from.diagram.by.calculating',\n",
       " 'Enter.quantity.from.diagram.by.reading',\n",
       " 'Enter.smaller.inital.in.diagram....calculated',\n",
       " 'Enter.smaller.initial.in.diagram....given',\n",
       " 'Enter.subtracted.quantity.in.diagram',\n",
       " 'Enter.total.in.diagram...calculated...addition',\n",
       " 'Enter.total.in.diagram...calculated...multiplication',\n",
       " 'Enter.total.in.diagram...calculated...subtraction',\n",
       " 'Identify.larger.quantity....addition',\n",
       " 'Identify.larger.quantity....multiplication',\n",
       " 'Identify.larger.quantity....subtraction']"
      ]
     },
     "execution_count": 11,
     "metadata": {},
     "output_type": "execute_result"
    }
   ],
   "source": [
    "all_kcs"
   ]
  },
  {
   "cell_type": "code",
   "execution_count": 12,
   "id": "1c54b7eb",
   "metadata": {},
   "outputs": [
    {
     "data": {
      "text/plain": [
       "['Enter.added.quantity.in.diagram',\n",
       " 'Copy.initial.in.diagram',\n",
       " 'Enter.total.in.diagram...calculated...addition',\n",
       " 'Draw.smaller.bar....multiplication',\n",
       " 'Enter.quantity.from.diagram.by.calculating',\n",
       " 'Draw.larger.bar....addition.subtraction',\n",
       " 'Identify.larger.quantity....subtraction',\n",
       " 'Identify.larger.quantity....multiplication',\n",
       " 'Enter.subtracted.quantity.in.diagram',\n",
       " 'Enter.quantity.from.diagram.by.reading',\n",
       " 'Enter.smaller.inital.in.diagram....calculated']"
      ]
     },
     "execution_count": 12,
     "metadata": {},
     "output_type": "execute_result"
    }
   ],
   "source": [
    "sub_kcs['Draw.larger.bar....multiplication']"
   ]
  },
  {
   "cell_type": "code",
   "execution_count": 41,
   "id": "cd862ce2",
   "metadata": {},
   "outputs": [
    {
     "name": "stdout",
     "output_type": "stream",
     "text": [
      "Draw.larger.bar....addition.subtraction\n",
      "['Enter.smaller.inital.in.diagram....calculated', 'Copy.initial.in.diagram', 'Draw.smaller.bar....multiplication', 'Draw.larger.bar....multiplication', 'Enter.total.in.diagram...calculated...addition', 'Enter.total.in.diagram...calculated...subtraction', 'Identify.larger.quantity....multiplication', 'Enter.added.quantity.in.diagram', 'Enter.initial.in.diagram....given', 'Identify.larger.quantity....subtraction', 'Enter.larger.initial.in.diagram....given', 'Draw.smaller.bar....addition.subtraction']\n",
      "Enter.total.in.diagram...calculated...multiplication\n",
      "['Enter.larger.inital.in.diagram....calculated', 'Enter.smaller.inital.in.diagram....calculated', 'Enter.total.in.diagram...calculated...addition', 'Identify.larger.quantity....addition', 'Copy.initial.in.diagram', 'Enter.total.in.diagram...calculated...subtraction', 'Identify.larger.quantity....subtraction', 'Enter.quantity.from.diagram.by.calculating', 'Enter.initial.in.diagram....given', 'Draw.smaller.bar....addition.subtraction', 'Enter.quantity.from.diagram.by.reading', 'Enter.smaller.initial.in.diagram....given']\n"
     ]
    }
   ],
   "source": [
    "print(all_kcs[1])\n",
    "print(sub_kcs[all_kcs[1]])\n",
    "\n",
    "print(all_kcs[15])\n",
    "print(sub_kcs[all_kcs[15]])"
   ]
  },
  {
   "cell_type": "code",
   "execution_count": 42,
   "id": "f8c3cb00",
   "metadata": {},
   "outputs": [
    {
     "name": "stdout",
     "output_type": "stream",
     "text": [
      "Copy.initial.in.diagram\n",
      "Draw.smaller.bar....addition.subtraction\n"
     ]
    },
    {
     "data": {
      "text/plain": [
       "False"
      ]
     },
     "execution_count": 42,
     "metadata": {},
     "output_type": "execute_result"
    }
   ],
   "source": [
    "print(all_kcs[0])\n",
    "print(all_kcs[3])\n",
    "sub_kcs[all_kcs[0]] == sub_kcs[all_kcs[3]]"
   ]
  },
  {
   "cell_type": "code",
   "execution_count": 43,
   "id": "e4d4170d",
   "metadata": {
    "scrolled": true
   },
   "outputs": [
    {
     "name": "stdout",
     "output_type": "stream",
     "text": [
      "all_kcs[kc_idx] :  Copy.initial.in.diagram\n",
      "10\n",
      "['Enter.smaller.inital.in.diagram....calculated', 'Draw.larger.bar....multiplication', 'Enter.total.in.diagram...calculated...addition', 'Enter.quantity.from.diagram.by.calculating', 'Draw.larger.bar....addition.subtraction', 'Enter.subtracted.quantity.in.diagram', 'Enter.total.in.diagram...calculated...subtraction', 'Enter.initial.in.diagram....given', 'Enter.larger.initial.in.diagram....given', 'Enter.smaller.initial.in.diagram....given']\n",
      "====================DATA LOADING====================\n",
      "size of train_data :  1800\n",
      "size of valid_data :  900\n",
      "size of test_data :  300\n",
      "====================TRAIN PREPARE====================\n",
      "device:  cuda\n",
      "--------------------MODEL PREPARE--------------------\n",
      "DKT(\n",
      "  (rnn): LSTM(22, 50, num_layers=4, dropout=0.2)\n",
      "  (layers): Sequential(\n",
      "    (0): Linear(in_features=50, out_features=11, bias=True)\n",
      "    (1): Sigmoid()\n",
      "  )\n",
      ")\n",
      "====================TRAIN START====================\n",
      "Epoch 1: f1_score=0.8988 auc_score=0.7231 highest_auc=0.0000\n",
      "Epoch 2: f1_score=0.9207 auc_score=0.7391 highest_auc=0.7231\n",
      "Epoch 3: f1_score=0.9207 auc_score=0.7458 highest_auc=0.7391\n",
      "The best validation roc_auc_score from epoch 3: 0.7458\n",
      "====================TRAIN END====================\n",
      "[0.898776700259872, 0.9206691851052348, 0.9206691851052348] [0.723122960269167, 0.7390782865763793, 0.7458321235373283] [0.8225555555555556, 0.853, 0.853]\n",
      "[0.898776700259872, 0.9206691851052348, 0.9206691851052348] [0.723122960269167, 0.7390782865763793, 0.7458321235373283]\n",
      "all_kcs[kc_idx] :  Draw.larger.bar....addition.subtraction\n",
      "10\n",
      "['Enter.smaller.inital.in.diagram....calculated', 'Copy.initial.in.diagram', 'Draw.smaller.bar....multiplication', 'Draw.larger.bar....multiplication', 'Enter.total.in.diagram...calculated...addition', 'Enter.total.in.diagram...calculated...subtraction', 'Identify.larger.quantity....multiplication', 'Enter.added.quantity.in.diagram', 'Enter.initial.in.diagram....given', 'Identify.larger.quantity....subtraction']\n",
      "====================DATA LOADING====================\n",
      "size of train_data :  1800\n",
      "size of valid_data :  900\n",
      "size of test_data :  300\n",
      "====================TRAIN PREPARE====================\n",
      "device:  cuda\n",
      "--------------------MODEL PREPARE--------------------\n",
      "DKT(\n",
      "  (rnn): LSTM(22, 50, num_layers=4, dropout=0.2)\n",
      "  (layers): Sequential(\n",
      "    (0): Linear(in_features=50, out_features=11, bias=True)\n",
      "    (1): Sigmoid()\n",
      "  )\n",
      ")\n",
      "====================TRAIN START====================\n",
      "Epoch 1: f1_score=0.8746 auc_score=0.6586 highest_auc=0.0000\n",
      "Epoch 2: f1_score=0.9060 auc_score=0.6771 highest_auc=0.6586\n",
      "Epoch 3: f1_score=0.9060 auc_score=0.6776 highest_auc=0.6771\n",
      "The best validation roc_auc_score from epoch 3: 0.6776\n",
      "====================TRAIN END====================\n",
      "[0.8746303201748746, 0.9060410842348365, 0.9060410842348365] [0.6585959646938481, 0.6771428365644777, 0.6775955485147196] [0.7833333333333333, 0.8282222222222222, 0.8282222222222222]\n",
      "[0.8746303201748746, 0.9060410842348365, 0.9060410842348365] [0.6585959646938481, 0.6771428365644777, 0.6775955485147196]\n"
     ]
    }
   ],
   "source": [
    "#for kc_idx in range(num_total_kc):\n",
    "for kc_idx in range(2):\n",
    "    # 12개 중 상위 10개 (임의로 상위 10개로 선정한 것. 나중에 수정 예정)\n",
    "    print(\"all_kcs[kc_idx] : \", all_kcs[kc_idx])\n",
    "    kc_candidates = sub_kcs[all_kcs[kc_idx]][:10]\n",
    "    print(len(kc_candidates))\n",
    "    print(kc_candidates)\n",
    "\n",
    "    # operator net(train)\n",
    "    n_epochs=3\n",
    "    ranked_kc_rel, cur_err = DoOperatorNet(data_path, n_epochs, kc_candidates, all_kcs[kc_idx])\n",
    "\n",
    "    print(ranked_kc_rel, cur_err)\n",
    "#    exit()"
   ]
  },
  {
   "cell_type": "code",
   "execution_count": null,
   "id": "e3a01632",
   "metadata": {},
   "outputs": [],
   "source": []
  },
  {
   "cell_type": "code",
   "execution_count": null,
   "id": "979f6770",
   "metadata": {},
   "outputs": [],
   "source": []
  },
  {
   "cell_type": "code",
   "execution_count": null,
   "id": "48804dda",
   "metadata": {},
   "outputs": [],
   "source": []
  },
  {
   "cell_type": "code",
   "execution_count": null,
   "id": "2859f2b0",
   "metadata": {},
   "outputs": [],
   "source": []
  }
 ],
 "metadata": {
  "kernelspec": {
   "display_name": "Python 3 (ipykernel)",
   "language": "python",
   "name": "python3"
  },
  "language_info": {
   "codemirror_mode": {
    "name": "ipython",
    "version": 3
   },
   "file_extension": ".py",
   "mimetype": "text/x-python",
   "name": "python",
   "nbconvert_exporter": "python",
   "pygments_lexer": "ipython3",
   "version": "3.8.13"
  }
 },
 "nbformat": 4,
 "nbformat_minor": 5
}
